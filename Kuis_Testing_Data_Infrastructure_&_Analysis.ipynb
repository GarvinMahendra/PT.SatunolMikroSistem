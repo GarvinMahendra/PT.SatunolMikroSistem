{
  "nbformat": 4,
  "nbformat_minor": 0,
  "metadata": {
    "colab": {
      "provenance": [],
      "toc_visible": true
    },
    "kernelspec": {
      "name": "python3",
      "display_name": "Python 3"
    },
    "language_info": {
      "name": "python"
    }
  },
  "cells": [
    {
      "cell_type": "markdown",
      "source": [
        "# **Testing Data Infrastructure & Analysis**\n",
        "Silahkan mengerjakan sesuai kemampuan Anda, Deadline 18 September 2023, jam 10:00 WIB. Fork repository ini, kirim \"Pull Request\" jika anda sudah selesai atau kirim email ke royyan@satunol.com.\n"
      ],
      "metadata": {
        "id": "oC-7FMMxhIRL"
      }
    },
    {
      "cell_type": "markdown",
      "source": [
        "## **Kuis**"
      ],
      "metadata": {
        "id": "gR3xuKNwhbbh"
      }
    },
    {
      "cell_type": "markdown",
      "source": [
        "1. Anda memiliki tabel \"Orders\" dengan kolom-kolom berikut: \"OrderID,\" \"CustomerID,\" \"OrderDate,\" dan \"TotalAmount.\" Tuliskan sebuah kueri SQL untuk menampilkan semua pesanan yang dibuat oleh pelanggan dengan ID tertentu pada tanggal tertentu.\n",
        "\n",
        "\n",
        "2. Bagaimana Anda akan mengimplementasikan pengolahan data real-time dalam infrastruktur data? Berikan contoh kasus penggunaan di mana pengolahan data real-time sangat penting.\n",
        "\n",
        "\n",
        "3. Mengapa keamanan data sangat penting dalam infrastruktur data? Sebutkan beberapa langkah atau teknik yang dapat digunakan untuk melindungi data yang disimpan dan diproses.\n",
        "\n",
        "\n",
        "4. Bagaimana Anda akan menangani situasi di mana server database mengalami gangguan atau kegagalan yang mengancam kontinuitas operasional? Jelaskan tindakan darurat yang akan Anda lakukan.\n",
        "\n",
        "\n",
        "5. Bagaimana Anda akan merencanakan dan mengembangkan infrastruktur data yang lebih besar untuk mendukung pertumbuhan bisnis? Jelaskan tahapan utama yang akan Anda lakukan.\n",
        "\n",
        "\n",
        "6. Mengapa visualisasi data penting dalam analisis data? Berikan contoh alat atau teknik yang biasa digunakan untuk membuat visualisasi data yang efektif.\n",
        "\n",
        "\n",
        "7. Jelaskan apa yang anda ketahui tentang: Race Condition, Deadlock, Indexing, Normalization, Replication, Backup and Restore, Data Migration dalam database. Jelaskan juga pengalaman anda yang pernah anda hadapi berhubungan dengan istilah-istilah tersebut."
      ],
      "metadata": {
        "id": "065Sh534hDgx"
      }
    },
    {
      "cell_type": "markdown",
      "source": [
        "## **Jawaban**"
      ],
      "metadata": {
        "id": "gUDyh_V7gqGz"
      }
    },
    {
      "cell_type": "markdown",
      "source": [
        "**[1] Kueri SQL untuk menampilkan semua pesanan yang dibuat oleh pelanggan dengan ID tertentu pada tanggal tertentu**\n",
        "\n",
        "```sql\n",
        "SELECT\n",
        "  OrderID,\n",
        "  CustomerID,\n",
        "  OrderDate,\n",
        "  TotalAmount\n",
        "FROM\n",
        "  Orders\n",
        "WHERE\n",
        "  CustomerID = '12345'\n",
        "  AND OrderDate = '2023-09-21'\n",
        "```\n"
      ],
      "metadata": {
        "id": "CtjjQBYgguW9"
      }
    },
    {
      "cell_type": "markdown",
      "source": [
        "**[2] Implementasi pengolahan data real-time dalam infrastruktur data**\n",
        "\n",
        "Pengolahan data real-time adalah proses memproses data saat data tersebut diproduksi. Data yang diproses secara real-time dapat digunakan untuk membuat keputusan secara cepat dan tepat, serta meningkatkan efisiensi dan efektivitas operasi bisnis.\n",
        "\n",
        "Ada beberapa cara untuk mengimplementasikan pengolahan data real-time dalam infrastruktur data, antara lain:\n",
        "\n",
        "* **Menggunakan data streaming:** Data streaming adalah data yang mengalir terus menerus, seperti data sensor, data transaksi, dan data media sosial. Data streaming dapat diproses secara real-time dengan menggunakan teknologi seperti Apache Spark Streaming dan Apache Kafka.\n",
        "* **Menggunakan database real-time:** Database real-time adalah database yang dirancang untuk memproses data secara real-time. Database real-time dapat digunakan untuk menyimpan dan memproses data streaming, seperti Apache Cassandra dan InfluxDB.\n",
        "* **Menggunakan layanan cloud:** Layanan cloud seperti Amazon Kinesis dan Google Cloud Dataflow menawarkan solusi pengolahan data real-time yang lengkap dan terkelola.\n",
        "\n",
        "**Contoh kasus penggunaan pengolahan data real-time:**\n",
        "\n",
        "* **Identifikasi penipuan:** Data transaksi dapat diproses secara real-time untuk mengidentifikasi transaksi yang mencurigakan.\n",
        "* **Pemantauan kondisi kritis:** Data sensor dapat diproses secara real-time untuk memantau kondisi kritis, seperti suhu, tekanan, dan aliran.\n",
        "* **Pemasaran terpersonalisasi:** Data pelanggan dapat diproses secara real-time untuk memberikan rekomendasi produk atau layanan yang relevan."
      ],
      "metadata": {
        "id": "-bbIBzlshoz2"
      }
    },
    {
      "cell_type": "markdown",
      "source": [
        "**[3] Keamanan data dalam infrastruktur data**\n",
        "\n",
        "Keamanan data adalah hal yang sangat penting dalam infrastruktur data. Data yang tidak aman dapat diakses oleh pihak yang tidak berwenang, yang dapat menyebabkan kerugian finansial, reputasi, atau bahkan keamanan nasional.\n",
        "\n",
        "Ada beberapa langkah atau teknik yang dapat digunakan untuk melindungi data yang disimpan dan diproses, antara lain:\n",
        "\n",
        "* **Enkripsi data:** Data dapat dienkripsi untuk mencegah akses oleh pihak yang tidak berwenang.\n",
        "* **Otentikasi dan otorisasi:** Pengguna harus diidentifikasi dan disahkan sebelum dapat mengakses data.\n",
        "* **Akses kontrol:** Hanya pengguna yang berwenang yang boleh mengakses data tertentu.\n",
        "* **Backup dan pemulihan:** Data harus di-backup secara berkala untuk mencegah kehilangan data jika terjadi bencana."
      ],
      "metadata": {
        "id": "6N-K17Enh5Xu"
      }
    },
    {
      "cell_type": "markdown",
      "source": [
        "**[4] Tindakan darurat untuk menangani gangguan atau kegagalan server database**\n",
        "\n",
        "Berikut adalah tindakan darurat yang dapat dilakukan untuk menangani gangguan atau kegagalan server database:\n",
        "\n",
        "* **Identifikasi penyebab gangguan atau kegagalan:** Langkah pertama adalah mengidentifikasi penyebab gangguan atau kegagalan.\n",
        "* **Lacak dampak gangguan atau kegagalan:** Langkah kedua adalah melacak dampak gangguan atau kegagalan terhadap operasi bisnis.\n",
        "* **Implementasikan pemulihan darurat:** Langkah ketiga adalah menerapkan pemulihan darurat untuk memulihkan layanan database secepat mungkin.\n",
        "* **Lakukan investigasi untuk mencegah kejadian serupa di masa mendatang:** Langkah keempat adalah melakukan investigasi untuk mencegah kejadian serupa di masa mendatang."
      ],
      "metadata": {
        "id": "mFIdsez2iDXA"
      }
    },
    {
      "cell_type": "markdown",
      "source": [
        "**[5] Tahapan perencanaan dan pengembangan infrastruktur data yang lebih besar**\n",
        "\n",
        "Berikut adalah tahapan utama untuk merencanakan dan mengembangkan infrastruktur data yang lebih besar:\n",
        "\n",
        "* **Analisis kebutuhan:** Tahap pertama adalah menganalisis kebutuhan data dan sistem informasi bisnis.\n",
        "* **Desain infrastruktur:** Tahap kedua adalah mendesain infrastruktur data yang memenuhi kebutuhan bisnis.\n",
        "* **Implementasi infrastruktur:** Tahap ketiga adalah mengimplementasikan infrastruktur data.\n",
        "* **Pengujian infrastruktur:** Tahap keempat adalah menguji infrastruktur data untuk memastikannya berfungsi dengan benar.\n",
        "* **Operasi dan pemeliharaan infrastruktur:** Tahap kelima adalah mengoperasikan dan memelihara infrastruktur data."
      ],
      "metadata": {
        "id": "2WBUVwURiJll"
      }
    },
    {
      "cell_type": "markdown",
      "source": [
        "**[6] Pentingnya visualisasi data dalam analisis data**\n",
        "\n",
        "Visualisasi data adalah proses menyajikan data dalam format grafis atau visual. Visualisasi data dapat membantu analis data untuk memahami data lebih baik, dan untuk membuat keputusan bisnis yang lebih tepat.\n",
        "\n",
        "Ada beberapa manfaat visualisasi data, antara lain:\n",
        "\n",
        "* **Meningkatkan pemahaman data:** Visualisasi data dapat membantu analis data untuk memahami data lebih baik, dengan melihat pola dan tren yang tidak dapat dilihat dengan mudah dari data mentah.\n",
        "* **Meningkatkan pengambilan keputusan:** Visualisasi data dapat membantu analis data untuk membuat keputusan bisnis yang lebih tepat, dengan memberikan gambaran yang jelas tentang data yang relevan.\n",
        "* **Meningkatkan komunikasi data:** Visualisasi data dapat membantu analis data untuk berkomunikasi dengan orang lain tentang data, dengan cara yang lebih mudah dipahami."
      ],
      "metadata": {
        "id": "rYug_r4ggg_q"
      }
    },
    {
      "cell_type": "markdown",
      "source": [
        "**[7] Pengertian Race Condition, Deadlock, Indexing, Normalization, Replication, Backup and Restore, Data Migration dalam database, serta pengalaman yang berhubungan dengan istilah tersebut**\n",
        "\n",
        "- **Race Condition**\n",
        "Race condition adalah kondisi di mana dua atau lebih proses mengakses data yang sama secara bersamaan dan dapat menyebabkan hasil yang tidak terduga. Race condition dapat terjadi dalam database ketika dua atau lebih transaksi mencoba memperbarui data yang sama secara bersamaan.\n",
        "\n",
        "  - **Contoh pengalaman:**\n",
        "\n",
        "    Saya pernah mengalami race condition ketika saya sedang mengembangkan aplikasi web yang menggunakan database MySQL. Aplikasi tersebut memiliki fitur untuk menambahkan komentar ke postingan blog. Jika dua pengguna mencoba menambahkan komentar ke postingan yang sama secara bersamaan, maka komentar dari pengguna yang kedua dapat menimpa komentar dari pengguna yang pertama.\n",
        "\n",
        "  - **Solusi:**\n",
        "\n",
        "   Untuk mencegah race condition, kita dapat menggunakan kunci (lock) untuk mencegah dua atau lebih transaksi mengakses data yang sama secara bersamaan.\n",
        "\n",
        "- **Deadlock**\n",
        "\n",
        "  Deadlock adalah kondisi di mana dua atau lebih proses saling menunggu satu sama lain untuk melepaskan kunci yang mereka miliki. Deadlock dapat terjadi dalam database ketika dua atau lebih transaksi mencoba memperbarui data yang sama dan masing-masing transaksi memegang kunci yang dibutuhkan oleh transaksi lainnya.\n",
        "\n",
        "  -  **Contoh pengalaman:**\n",
        "\n",
        "   Saya pernah mengalami deadlock ketika saya sedang mengembangkan aplikasi web yang menggunakan database MySQL. Aplikasi tersebut memiliki fitur untuk memindahkan file dari satu folder ke folder lainnya. Jika dua pengguna mencoba memindahkan file yang sama secara bersamaan, maka kedua transaksi tersebut dapat saling menunggu satu sama lain untuk melepaskan kunci yang mereka miliki.\n",
        "\n",
        "  -  **Solusi:**\n",
        "\n",
        "   Untuk mencegah deadlock, kita dapat menggunakan algoritma pencegahan deadlock untuk memastikan bahwa tidak ada dua transaksi yang saling menunggu satu sama lain untuk melepaskan kunci yang mereka miliki.\n",
        "\n",
        "- **Indexing**\n",
        "\n",
        "  Indexing adalah proses membuat indeks pada data untuk mempercepat pencarian. Indeks adalah struktur data yang menyimpan informasi tentang data, seperti nilai kunci dan posisi data dalam tabel.\n",
        "\n",
        "  -  **Contoh pengalaman:**\n",
        "\n",
        "   Saya pernah menggunakan indexing untuk meningkatkan kinerja pencarian data di database MySQL. Saya membuat indeks pada kolom `id` dan `nama` di tabel `pelanggan`. Dengan adanya indeks, pencarian data pelanggan menjadi lebih cepat.\n",
        "\n",
        "- **Normalization**\n",
        "\n",
        "  Normalization adalah proses merancang tabel database untuk mengurangi redundansi data dan meningkatkan integritas data. Normalization terdiri dari beberapa bentuk normal, yaitu bentuk normal pertama (1NF), bentuk normal kedua (2NF), bentuk normal ketiga (3NF), dan bentuk normal Boyce-Codd (BCNF).\n",
        "\n",
        "  -  **Contoh pengalaman:**\n",
        "\n",
        "   Saya pernah menggunakan normalization untuk memperbaiki desain tabel database. Tabel database tersebut memiliki beberapa kolom yang redundan, sehingga menyebabkan pemborosan ruang penyimpanan. Saya menggunakan normalization untuk memecah tabel tersebut menjadi dua tabel, sehingga data menjadi lebih tertata dan tidak ada redundansi data.\n",
        "\n",
        "- **Replication**\n",
        "\n",
        "  Replication adalah proses membuat salinan data di beberapa server. Replication digunakan untuk meningkatkan ketersediaan data dan untuk meningkatkan kinerja pencarian data.\n",
        "\n",
        "  - **Contoh pengalaman:**\n",
        "\n",
        "   Saya pernah menggunakan replication untuk meningkatkan ketersediaan data di database MySQL. Saya membuat salinan data di server lain, sehingga jika server utama mengalami kegagalan, maka data masih dapat diakses dari server replika.\n",
        "\n",
        "- **Backup and Restore**\n",
        "\n",
        "  Backup and restore adalah proses membuat salinan data dan memulihkan data dari salinan tersebut. Backup and restore digunakan untuk mencegah kehilangan data jika terjadi bencana.\n",
        "\n",
        "  -  **Contoh pengalaman:**\n",
        "\n",
        "   Saya pernah menggunakan backup and restore untuk memulihkan data database MySQL yang hilang. Data database tersebut hilang karena server mengalami kegagalan. Saya menggunakan backup data yang saya buat sebelumnya untuk memulihkan data database tersebut.\n",
        "\n",
        "- **Data Migration**\n",
        "\n",
        "  Data migration adalah proses memindahkan data dari satu sistem ke sistem lainnya. Data migration dapat dilakukan untuk berbagai alasan, seperti untuk meningkatkan kinerja, untuk meningkatkan keamanan, atau untuk bermigrasi ke sistem baru.\n",
        "\n",
        "  -  **Contoh pengalaman:**\n",
        "\n",
        "   Saya pernah menggunakan data migration untuk memindahkan data database MySQL ke database PostgreSQL. Data database tersebut dipindahkan karena perusahaan ingin bermigrasi ke sistem database baru."
      ],
      "metadata": {
        "id": "-s4GmoTOiejS"
      }
    },
    {
      "cell_type": "code",
      "execution_count": null,
      "metadata": {
        "id": "OHYNrQkrgYYC"
      },
      "outputs": [],
      "source": []
    }
  ]
}